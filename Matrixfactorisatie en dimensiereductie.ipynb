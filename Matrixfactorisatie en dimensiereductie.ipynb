{
 "cells": [
  {
   "cell_type": "markdown",
   "metadata": {},
   "source": [
    "# Matrixfactorisatie en dimensiereductie\n",
    "\n",
    "### Analyseren klantprofielen op basis van uitgavenpatronen bij drie productcategorieën\n",
    "\n",
    "#### Dataset\n",
    "\n",
    "We gebruiken volgende dataset:\n",
    "\n",
    "| Klant | Product A | Product B | Product C |\n",
    "|-------|-----------|-----------|-----------|\n",
    "| 1     |       100 |        50 |        30 |\n",
    "| 2     | 200       | 150       | 120       |\n",
    "| 3     | 50        | 20        |        10 |\n",
    "| 4     | 300       | 200       |       180 |\n",
    "\n",
    "Laten we deze dataset gebruiken voor verschillende methoden.\n",
    "\n",
    "# 1. PCA (Principal Component Analysis)\n",
    "\n",
    "**Doel**: Vind de belangrijkste richtingen waarin de data varieert, en reduceer dimensies.\n",
    "\n",
    "**Stap 1**: Normaliseer de data (belangrijk voor PCA).<br>\n",
    "**Stap 2**: Bepaal de belangrijkste componenten.<br>\n",
    "**Stap 3**: Projecteer de data in een lagere dimensie.<br>\n",
    "\n",
    "**Code**:"
   ]
  },
  {
   "cell_type": "markdown",
   "metadata": {},
   "source": []
  },
  {
   "cell_type": "code",
   "execution_count": 45,
   "metadata": {},
   "outputs": [
    {
     "name": "stdout",
     "output_type": "stream",
     "text": [
      "Hoofdcomponenten:\n",
      " [[ 0.57676189  0.57724112  0.57804706]\n",
      " [-0.77128498  0.61795707  0.15247471]]\n",
      "Data in lagere dimensie:\n",
      " [[-1.27302513 -0.0856951 ]\n",
      " [ 0.87555836  0.15747355]\n",
      " [-1.97887555  0.01754198]\n",
      " [ 2.37634232 -0.08932043]]\n"
     ]
    }
   ],
   "source": [
    "# Importeer de juiste libraries \n",
    "import numpy as np\n",
    "from sklearn.decomposition import PCA\n",
    "from sklearn.preprocessing import StandardScaler\n",
    "\n",
    "# Dataset\n",
    "data = np.array([\n",
    "    [100,50,30],\n",
    "    [200,150,120],\n",
    "    [50,20,10],\n",
    "    [300,200,180]\n",
    "])\n",
    "\n",
    "# 1. Normaliseer de data\n",
    "scaler = StandardScaler()\n",
    "data_normalized = scaler.fit_transform(data)\n",
    "\n",
    "# 2. Pas PCA toe\n",
    "pca = PCA(n_components=2) # reduceer naar 2 dimensies\n",
    "pca_data = pca.fit_transform(data_normalized)\n",
    "\n",
    "print(\"Hoofdcomponenten:\\n\",pca.components_)\n",
    "print(\"Data in lagere dimensie:\\n\", pca_data)"
   ]
  },
  {
   "cell_type": "code",
   "execution_count": 46,
   "metadata": {},
   "outputs": [
    {
     "name": "stdout",
     "output_type": "stream",
     "text": [
      "De input data ziet er als volgt uit:\n",
      " [[100  50  30]\n",
      " [200 150 120]\n",
      " [ 50  20  10]\n",
      " [300 200 180]]\n",
      "---------------------------------------------\n",
      "De normalized data ziet er als volgt uit:\n",
      " [[-0.65094455 -0.75370758 -0.80013226]\n",
      " [ 0.39056673  0.61666984  0.50917508]\n",
      " [-1.1717002  -1.16482081 -1.09108945]\n",
      " [ 1.43207802  1.30185855  1.38204664]]\n",
      "---------------------------------------------\n",
      "De pca data ziet er als volgt uit:\n",
      " [[-1.27302513 -0.0856951 ]\n",
      " [ 0.87555836  0.15747355]\n",
      " [-1.97887555  0.01754198]\n",
      " [ 2.37634232 -0.08932043]]\n"
     ]
    }
   ],
   "source": [
    "print(\"De input data ziet er als volgt uit:\\n\", data)\n",
    "print(\"---------------------------------------------\")\n",
    "print(\"De normalized data ziet er als volgt uit:\\n\", data_normalized)\n",
    "print(\"---------------------------------------------\")\n",
    "print(\"De pca data ziet er als volgt uit:\\n\", pca_data)"
   ]
  },
  {
   "cell_type": "markdown",
   "metadata": {},
   "source": [
    "**Uitleg**\n",
    "\n",
    "- De data wordt genormaliseerd zodat alle waarden op dezelfde schaal zijn.\n",
    "- PCA berekent nieuwe assen (componenten) waarop de data wordt geprojecteerd, met behoud van de belangrijkste variatie.\n",
    "- De data wordt gereduceerd van 3D (A,B,C) naar 2D.\n",
    "\n",
    "## 2. NMF (Niet-negatieve MatrixFactorisatie)\n",
    "\n",
    "**Doel**: Ontdek verborgen thema’s of patronen (alleen positief).\n",
    "\n",
    "**Stap 1**: Splits de matrix in twee kleinere matrices:<br>\n",
    "\t•\t**W**: Wat klanten belangrijk vinden (bijv. thema’s).<br>\n",
    "\t•\t**H**: Hoe de producten bijdragen aan die thema’s.<br>\n",
    "    \n",
    "**Stap 2**: Gebruik de matrices om nieuwe inzichten te krijgen.<br>\n",
    "\n",
    "**Code**:"
   ]
  },
  {
   "cell_type": "code",
   "execution_count": 47,
   "metadata": {},
   "outputs": [
    {
     "name": "stdout",
     "output_type": "stream",
     "text": [
      "Matrix W (klantvoorkeuren):\n",
      " [[ 2.38491458  3.52063223]\n",
      " [15.80751019  2.08035237]\n",
      " [ 0.20912602  2.1964664 ]\n",
      " [21.83858785  3.78443518]]\n",
      "Matrix H (producteigenschappen):\n",
      " [[ 9.89559549  7.9436424   7.40809634]\n",
      " [21.81256142  8.38631306  3.8180044 ]]\n"
     ]
    }
   ],
   "source": [
    "from sklearn.decomposition import NMF\n",
    "\n",
    "# Pas NMF toe\n",
    "nmf = NMF(n_components=2, init='random',random_state=0)\n",
    "W = nmf.fit_transform(data)\n",
    "H = nmf.components_\n",
    "\n",
    "print(\"Matrix W (klantvoorkeuren):\\n\", W)\n",
    "print(\"Matrix H (producteigenschappen):\\n\", H)"
   ]
  },
  {
   "cell_type": "markdown",
   "metadata": {},
   "source": [
    "**Uitleg**:\n",
    "\n",
    "- De dataset wordt opgesplitst in thema's (bijv. luxe vs budget)<br>\n",
    "- Matrix W toont welke klanten welke thema's belangrijk vinden.<br>\n",
    "- Matrix H laat zien welke producten bij welk thema horen.\n",
    "\n",
    "## 3. t-SNE\n",
    "\n",
    "**Doel**: Visualiseer hoge-dimensiedata in 2D of 3D.\n",
    "\n",
    "**Stap 1**: Bereken afstanden tussen punten in hoge dimensies.<br>\n",
    "**Stap 2**: Reduceer deze afstanden naar 2D voor visualisatie.\n",
    "\n",
    "**Code**:"
   ]
  },
  {
   "cell_type": "code",
   "execution_count": 48,
   "metadata": {},
   "outputs": [
    {
     "name": "stdout",
     "output_type": "stream",
     "text": [
      "[[100  50  30]\n",
      " [200 150 120]\n",
      " [ 50  20  10]\n",
      " [300 200 180]]\n"
     ]
    }
   ],
   "source": [
    "print(data)"
   ]
  },
  {
   "cell_type": "code",
   "execution_count": 49,
   "metadata": {},
   "outputs": [
    {
     "data": {
      "image/png": "[encoded data removed]",
      "text/plain": [
       "<Figure size 640x480 with 1 Axes>"
      ]
     },
     "metadata": {},
     "output_type": "display_data"
    }
   ],
   "source": [
    "from sklearn.manifold import TSNE\n",
    "import matplotlib.pyplot as plt\n",
    "\n",
    "# Pas t-SNE toe\n",
    "tsne = TSNE(n_components=2, random_state=0, perplexity=2)\n",
    "tsne_data = tsne.fit_transform(data)\n",
    "\n",
    "# Visualiseer de data\n",
    "plt.scatter(tsne_data[:,0], tsne_data[:,1])\n",
    "\n",
    "for i, txt in enumerate(['Klant 1', 'Klant 2','Klant 3','Klant 4']):\n",
    "    plt.annotate(txt, (tsne_data[i,0], tsne_data[i,1]))\n",
    "\n",
    "plt.title(\"t-SNE Visualisatie\")\n",
    "plt.show()\n"
   ]
  },
  {
   "cell_type": "markdown",
   "metadata": {},
   "source": [
    "**Uitleg**:\n",
    "\n",
    "- t-SNE behoudt de afstanden tussen klanten, zodat vergelijkbare klanten dichtbij elkaar worden geplaatst in een 2D-plot.<br>\n",
    "- Deze methode is vooral handig voor clustering.\n",
    "\n",
    "## 4. Auto-encoders\n",
    "\n",
    "**Doel**: Reduceer dimensies via een neuraal netwerk.\n",
    "\n",
    "**Stap 1**: Train een neuraal netwerk om de data te comprimeren en te reconstrueren.<br>\n",
    "**Stap 2**: Gebruik de gecomprimeerde data voor verdere analyse.\n",
    "\n",
    "**Code**:"
   ]
  },
  {
   "cell_type": "code",
   "execution_count": 50,
   "metadata": {},
   "outputs": [],
   "source": [
    "import os\n",
    "os.environ['TF_CPP_MIN_LOG_LEVEL'] = '2'  # Alleen waarschuwingen en fouten weergeven\n",
    "%pip "
   ]
  },
  {
   "cell_type": "code",
   "execution_count": 53,
   "metadata": {},
   "outputs": [
    {
     "ename": "ModuleNotFoundError",
     "evalue": "No module named 'tensorflow'",
     "output_type": "error",
     "traceback": [
      "\u001b[1;31m---------------------------------------------------------------------------\u001b[0m",
      "\u001b[1;31mModuleNotFoundError\u001b[0m                       Traceback (most recent call last)",
      "Cell \u001b[1;32mIn[53], line 1\u001b[0m\n\u001b[1;32m----> 1\u001b[0m \u001b[38;5;28;01mimport\u001b[39;00m \u001b[38;5;21;01mtensorflow\u001b[39;00m \u001b[38;5;28;01mas\u001b[39;00m \u001b[38;5;21;01mtf\u001b[39;00m\n\u001b[0;32m      2\u001b[0m \u001b[38;5;28;01mfrom\u001b[39;00m \u001b[38;5;21;01mtensorflow\u001b[39;00m\u001b[38;5;21;01m.\u001b[39;00m\u001b[38;5;21;01mkeras\u001b[39;00m \u001b[38;5;28;01mimport\u001b[39;00m layers, models\n\u001b[0;32m      4\u001b[0m \u001b[38;5;66;03m# Bouw een auto-encoder\u001b[39;00m\n",
      "\u001b[1;31mModuleNotFoundError\u001b[0m: No module named 'tensorflow'"
     ]
    }
   ],
   "source": [
    "import tensorflow as tf\n",
    "from tensorflow.keras import layers, models\n",
    "\n",
    "# Bouw een auto-encoder\n",
    "input_dim = data.shape[1]\n",
    "encoding_dim = 2 # Reduceer naar 2 dimensies\n",
    "\n",
    "input_layer = layers.input(shape=(input_dim,))\n",
    "encoded = layers.Dense(encoding_dim, activation='relu')(input_layer)\n",
    "decoded = layers.Dense(input_dim, activation = 'linear')(encoded)\n",
    "\n",
    "autoencoder = models.Model(input_layer, decoded)\n",
    "autoencoder.compile(optimizer='adam', loss='mse')\n",
    "\n",
    "# Train de auto-encoder\n",
    "autoencoder.fit(data, data, epochs=100, verbose=0)\n",
    "\n",
    "# Gebruik de encoder om gecomprimeerde data te krijgen\n",
    "encoder = models.Model(input_layer, encoded)\n",
    "compressed_data = encoder.predict(data)\n",
    "\n",
    "print(\"Gecomprimeerde data:\\n\", compressed_data)\n"
   ]
  },
  {
   "cell_type": "markdown",
   "metadata": {},
   "source": [
    "**Uitleg**:\n",
    "\n",
    "- De auto-encoder leert de belangrijkste patronen in de data en reduceert deze naar 2 dimensies.<br>\n",
    "- De gecomprimeerde data kan gebruikt worden voor visualisatie of clustering.\n",
    "\n",
    "## 5. LDA (Latent Dirichlet Allocation)\n",
    "\n",
    "**Doel**: Ontdek onderwerpen in tekstdata.\n",
    "\n",
    "Voorbeeld met tekstdata:\n",
    "Stel, we hebben klantreviews:<br>\n",
    "\t•\tReview 1: “De producten zijn goedkoop en van goede kwaliteit.”<br>\n",
    "\t•\tReview 2: “Snelle levering en lage prijzen.”<br>\n",
    "\t•\tReview 3: “Goede kwaliteit en fantastische klantenservice.”\n",
    "\n",
    "**Code**:"
   ]
  },
  {
   "cell_type": "code",
   "execution_count": null,
   "metadata": {},
   "outputs": [],
   "source": []
  }
 ],
 "metadata": {
  "kernelspec": {
   "display_name": "base",
   "language": "python",
   "name": "python3"
  },
  "language_info": {
   "codemirror_mode": {
    "name": "ipython",
    "version": 3
   },
   "file_extension": ".py",
   "mimetype": "text/x-python",
   "name": "python",
   "nbconvert_exporter": "python",
   "pygments_lexer": "ipython3",
   "version": "3.12.4"
  }
 },
 "nbformat": 4,
 "nbformat_minor": 2
}
